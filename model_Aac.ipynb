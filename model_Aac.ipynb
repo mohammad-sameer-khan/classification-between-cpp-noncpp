{
 "cells": [
  {
   "cell_type": "markdown",
   "metadata": {},
   "source": [
    "# AAC"
   ]
  },
  {
   "cell_type": "code",
   "execution_count": 56,
   "metadata": {},
   "outputs": [],
   "source": [
    "dataset = pd.read_csv(r\"C:\\Users\\use\\Desktop\\bioinformatics\\dataset_Acc.csv\")"
   ]
  },
  {
   "cell_type": "code",
   "execution_count": 57,
   "metadata": {},
   "outputs": [],
   "source": [
    "X = dataset.iloc[:, 1:21].values  \n",
    "Y = dataset.iloc[:,0].values"
   ]
  },
  {
   "cell_type": "code",
   "execution_count": 58,
   "metadata": {},
   "outputs": [
    {
     "name": "stdout",
     "output_type": "stream",
     "text": [
      "StandardScaler(copy=True, with_mean=True, with_std=True)\n",
      "20\n"
     ]
    },
    {
     "data": {
      "text/plain": [
       "(794, 20)"
      ]
     },
     "execution_count": 58,
     "metadata": {},
     "output_type": "execute_result"
    }
   ],
   "source": [
    "std_scale = StandardScaler().fit(X)\n",
    "print(std_scale)\n",
    "X = std_scale.transform(X)\n",
    "print(len(X[0]))\n",
    "X.shape"
   ]
  },
  {
   "cell_type": "code",
   "execution_count": 59,
   "metadata": {},
   "outputs": [
    {
     "data": {
      "text/plain": [
       "(794, 2)"
      ]
     },
     "execution_count": 59,
     "metadata": {},
     "output_type": "execute_result"
    }
   ],
   "source": [
    "pca = decomposition.PCA(n_components=2)\n",
    "pca.fit(X)\n",
    "X = pca.transform(X)\n",
    "X.shape"
   ]
  },
  {
   "cell_type": "code",
   "execution_count": 61,
   "metadata": {},
   "outputs": [
    {
     "name": "stdout",
     "output_type": "stream",
     "text": [
      "Average accuracy = 74.69842944210033\n",
      "Average accuracy = 76.96444756993279\n",
      "Average accuracy = 67.63498202844194\n",
      "Average accuracy = 73.81227535552432\n",
      "Average accuracy = 73.16694014689794\n",
      "Average accuracy = 74.08909595249258\n",
      "Average accuracy = 74.55289889045164\n",
      "Average accuracy = 68.11954992967651\n",
      "Average accuracy = 76.08284497577748\n"
     ]
    }
   ],
   "source": [
    "kfold = StratifiedKFold(n_splits=10, shuffle=True)\n",
    "cvscores = []\n",
    "\n",
    "iterator = 1\n",
    "cv_score = 0\n",
    "\n",
    "classifiers = [\n",
    "    KNN(),\n",
    "    SVC(),\n",
    "    DecisionTreeClassifier(),\n",
    "    RandomForestClassifier()]\n",
    "\n",
    "size=classifiers.count\n",
    "\n",
    "for i in classifiers:\n",
    "    \n",
    "    clf=i\n",
    "    acc_total = 0\n",
    "    \n",
    "    for train, test in kfold.split(X, Y):\n",
    "       # print(\"{} : {}\\n\".format(train,test))   \n",
    "        X_train = X[train]\n",
    "        Y_train = Y[train]\n",
    "    \n",
    "        X_test = X[test]\n",
    "        Y_test = Y[test]\n",
    "    \n",
    "        model_svm = clf.fit(X_train,Y_train)\n",
    "    \n",
    "        predictions =model_svm.predict(X_test)\n",
    "    \n",
    "        acc = 100*accuracy_score(Y_test,predictions)\n",
    "    \n",
    "    \n",
    "        acc_total = acc_total + acc\n",
    "    \n",
    "    print('Average accuracy = {}'.format(acc_total/10))"
   ]
  }
 ],
 "metadata": {
  "kernelspec": {
   "display_name": "Python 3",
   "language": "python",
   "name": "python3"
  },
  "language_info": {
   "codemirror_mode": {
    "name": "ipython",
    "version": 3
   },
   "file_extension": ".py",
   "mimetype": "text/x-python",
   "name": "python",
   "nbconvert_exporter": "python",
   "pygments_lexer": "ipython3",
   "version": "3.6.5"
  }
 },
 "nbformat": 4,
 "nbformat_minor": 2
}
